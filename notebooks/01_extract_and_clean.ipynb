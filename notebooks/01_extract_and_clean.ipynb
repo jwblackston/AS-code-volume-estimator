{
 "cells": [
  {
   "cell_type": "code",
   "execution_count": 2,
   "id": "c9121033",
   "metadata": {},
   "outputs": [
    {
     "name": "stdout",
     "output_type": "stream",
     "text": [
      "✅ Raw data loaded successfully\n"
     ]
    },
    {
     "data": {
      "text/html": [
       "<div>\n",
       "<style scoped>\n",
       "    .dataframe tbody tr th:only-of-type {\n",
       "        vertical-align: middle;\n",
       "    }\n",
       "\n",
       "    .dataframe tbody tr th {\n",
       "        vertical-align: top;\n",
       "    }\n",
       "\n",
       "    .dataframe thead th {\n",
       "        text-align: right;\n",
       "    }\n",
       "</style>\n",
       "<table border=\"1\" class=\"dataframe\">\n",
       "  <thead>\n",
       "    <tr style=\"text-align: right;\">\n",
       "      <th></th>\n",
       "      <th>CODE</th>\n",
       "      <th>SHORT DESCRIPTION (VALID ICD-10 FY2025)</th>\n",
       "      <th>LONG DESCRIPTION (VALID ICD-10 FY2025)</th>\n",
       "      <th>NF EXCL</th>\n",
       "    </tr>\n",
       "  </thead>\n",
       "  <tbody>\n",
       "    <tr>\n",
       "      <th>0</th>\n",
       "      <td>A000</td>\n",
       "      <td>Cholera due to Vibrio cholerae 01, biovar chol...</td>\n",
       "      <td>Cholera due to Vibrio cholerae 01, biovar chol...</td>\n",
       "      <td>NaN</td>\n",
       "    </tr>\n",
       "    <tr>\n",
       "      <th>1</th>\n",
       "      <td>A001</td>\n",
       "      <td>Cholera due to Vibrio cholerae 01, biovar eltor</td>\n",
       "      <td>Cholera due to Vibrio cholerae 01, biovar eltor</td>\n",
       "      <td>NaN</td>\n",
       "    </tr>\n",
       "    <tr>\n",
       "      <th>2</th>\n",
       "      <td>A009</td>\n",
       "      <td>Cholera, unspecified</td>\n",
       "      <td>Cholera, unspecified</td>\n",
       "      <td>NaN</td>\n",
       "    </tr>\n",
       "    <tr>\n",
       "      <th>3</th>\n",
       "      <td>A0100</td>\n",
       "      <td>Typhoid fever, unspecified</td>\n",
       "      <td>Typhoid fever, unspecified</td>\n",
       "      <td>NaN</td>\n",
       "    </tr>\n",
       "    <tr>\n",
       "      <th>4</th>\n",
       "      <td>A0101</td>\n",
       "      <td>Typhoid meningitis</td>\n",
       "      <td>Typhoid meningitis</td>\n",
       "      <td>NaN</td>\n",
       "    </tr>\n",
       "  </tbody>\n",
       "</table>\n",
       "</div>"
      ],
      "text/plain": [
       "    CODE            SHORT DESCRIPTION (VALID ICD-10 FY2025)  \\\n",
       "0   A000  Cholera due to Vibrio cholerae 01, biovar chol...   \n",
       "1   A001    Cholera due to Vibrio cholerae 01, biovar eltor   \n",
       "2   A009                               Cholera, unspecified   \n",
       "3  A0100                         Typhoid fever, unspecified   \n",
       "4  A0101                                 Typhoid meningitis   \n",
       "\n",
       "              LONG DESCRIPTION (VALID ICD-10 FY2025) NF EXCL  \n",
       "0  Cholera due to Vibrio cholerae 01, biovar chol...     NaN  \n",
       "1    Cholera due to Vibrio cholerae 01, biovar eltor     NaN  \n",
       "2                               Cholera, unspecified     NaN  \n",
       "3                         Typhoid fever, unspecified     NaN  \n",
       "4                                 Typhoid meningitis     NaN  "
      ]
     },
     "metadata": {},
     "output_type": "display_data"
    }
   ],
   "source": [
    "# 01_extract_and_clean.ipynb\n",
    "\n",
    "import pandas as pd\n",
    "\n",
    "# Define path to your raw data file\n",
    "RAW_DATA_PATH = \"../data/raw/icd10_jan2025.csv\"\n",
    "\n",
    "# Load raw ICD10 data\n",
    "try:\n",
    "    df_raw = pd.read_csv(RAW_DATA_PATH)\n",
    "    print(\"✅ Raw data loaded successfully\")\n",
    "    display(df_raw.head())\n",
    "except FileNotFoundError:\n",
    "    print(\"⚠️ Raw data not found. Please add the file at:\", RAW_DATA_PATH)\n",
    "\n",
    "# Preview column names\n",
    "# Uncomment this when your file is present\n",
    "# print(df_raw.columns)\n",
    "\n",
    "# Example: renaming and selecting key columns\n",
    "# df_cleaned = df_raw[['Code', 'Description']].copy()\n",
    "# df_cleaned['Estimated Volume'] = ...  # Add this manually or from external source\n",
    "\n",
    "# Save to processed\n",
    "# df_cleaned.to_csv(\"../data/processed/static_lookup.csv\", index=False)"
   ]
  },
  {
   "cell_type": "code",
   "execution_count": 3,
   "id": "f80a67db",
   "metadata": {},
   "outputs": [
    {
     "name": "stdout",
     "output_type": "stream",
     "text": [
      "Index(['CODE', 'SHORT DESCRIPTION (VALID ICD-10 FY2025)',\n",
      "       'LONG DESCRIPTION (VALID ICD-10 FY2025)', 'NF EXCL'],\n",
      "      dtype='object')\n"
     ]
    }
   ],
   "source": [
    "print(df_raw.columns)"
   ]
  },
  {
   "cell_type": "code",
   "execution_count": null,
   "id": "0c0dd394",
   "metadata": {},
   "outputs": [],
   "source": [
    "# Load the Excel file\n",
    "df = pd.read_excel('.xlsx')\n",
    "\n",
    "# Inspect the first few rows\n",
    "print(df.head())\n",
    "\n",
    "# Select relevant columns and rename them\n",
    "df_cleaned = df[['ICD-10-CM Code', 'ICD-10-CM Description']].copy()\n",
    "df_cleaned.columns = ['code', 'description']\n",
    "\n",
    "# Save to CSV\n",
    "df_cleaned.to_csv('data/processed/static_lookup.csv', index=False)\n"
   ]
  }
 ],
 "metadata": {
  "kernelspec": {
   "display_name": "Python 3 (ipykernel)",
   "language": "python",
   "name": "python3"
  },
  "language_info": {
   "codemirror_mode": {
    "name": "ipython",
    "version": 3
   },
   "file_extension": ".py",
   "mimetype": "text/x-python",
   "name": "python",
   "nbconvert_exporter": "python",
   "pygments_lexer": "ipython3",
   "version": "3.9.13"
  }
 },
 "nbformat": 4,
 "nbformat_minor": 5
}
